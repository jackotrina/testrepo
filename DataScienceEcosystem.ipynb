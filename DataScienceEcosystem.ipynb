{
 "cells": [
  {
   "cell_type": "markdown",
   "id": "c9e02ff9-fec5-4714-b7b4-316d823b7833",
   "metadata": {},
   "source": [
    "# Data Science Tools and Ecosystem"
   ]
  },
  {
   "cell_type": "markdown",
   "id": "5acc48c8-3229-4f43-b948-9869071b2336",
   "metadata": {},
   "source": [
    "## Introduction: In this notebook, data science tools and ecosystems are listed and discussed."
   ]
  },
  {
   "cell_type": "markdown",
   "id": "51b5aefa-f76a-4b41-8c3e-17227e041934",
   "metadata": {},
   "source": [
    "Data Science Languages: <br>\n",
    "<ol>\n",
    "    <li> Python </li>\n",
    "    <li> R </li>\n",
    "    <li> SQL </li>\n",
    "    <li> Java </li>\n",
    "    <li> C++ </li>\n",
    "    <li> Visual Basic </li>\n",
    "    <li> Julia </li>\n",
    "    </ol>"
   ]
  },
  {
   "cell_type": "markdown",
   "id": "6979c598-d69f-4ee7-b236-5da579c017b9",
   "metadata": {},
   "source": [
    "Data Science Libraries: <br>\n",
    "<ol>\n",
    "    <li> Python </li>\n",
    "    <li> Pandas </li>\n",
    "    <li> NumPy </li>\n",
    "    <li> Matplotlib </li>\n",
    "    <li> Spark </li>\n",
    "    </ol>"
   ]
  },
  {
   "cell_type": "markdown",
   "id": "43747319-cfd9-4b50-800c-d4e1c658b153",
   "metadata": {},
   "source": [
    "| Data Science Tools |\n",
    "|---|\n",
    "| MySQL |\n",
    "|Apache CouchDB|\n",
    "|MongoDB|\n",
    "|Ceph|\n",
    "|Hadoop File System|\n",
    "|Jupyter|\n"
   ]
  },
  {
   "cell_type": "markdown",
   "id": "77bd36aa-055d-468e-9e3a-fe455cd0e4f0",
   "metadata": {},
   "source": [
    "### Arithmetic Operations Examples:"
   ]
  },
  {
   "cell_type": "code",
   "execution_count": 11,
   "id": "e103d2c5-f548-4531-8726-37bf5b4fa2ff",
   "metadata": {},
   "outputs": [
    {
     "data": {
      "text/plain": [
       "17"
      ]
     },
     "execution_count": 11,
     "metadata": {},
     "output_type": "execute_result"
    }
   ],
   "source": [
    "(3*4)+5"
   ]
  },
  {
   "cell_type": "code",
   "execution_count": 10,
   "id": "ae2a5942-16e0-46f2-9efd-db66426c8286",
   "metadata": {},
   "outputs": [
    {
     "name": "stdout",
     "output_type": "stream",
     "text": [
      "3.3333333333333335 hours\n"
     ]
    }
   ],
   "source": [
    "#Convert minutes to hours\n",
    "time = 200\n",
    "hours = time/60\n",
    "print(str(hours) + \" hours\")"
   ]
  },
  {
   "cell_type": "markdown",
   "id": "c07350c7-61c7-4128-b76a-30be26fc5e6c",
   "metadata": {},
   "source": [
    "Objectives: <br>\n",
    "<ul>\n",
    "    <li> Understand data science languages </li>\n",
    "    <li> Understand data science libraries </li>\n",
    "    <li> Know data science tools </li>\n",
    "    <li> Creating code for arithmetic expressions </li>\n",
    "    <li> Using markdown cells </li>\n",
    "    </ul>"
   ]
  },
  {
   "cell_type": "markdown",
   "id": "dddf0284-134c-4070-bc68-033d01fd442e",
   "metadata": {},
   "source": [
    "## Author:\n",
    "Jackie L"
   ]
  },
  {
   "cell_type": "code",
   "execution_count": null,
   "id": "89c70630-64e5-480a-bca2-749eead6341f",
   "metadata": {},
   "outputs": [],
   "source": []
  },
  {
   "cell_type": "code",
   "execution_count": null,
   "id": "34181f10-6b85-4dc0-8964-cc5f19598b3d",
   "metadata": {},
   "outputs": [],
   "source": []
  }
 ],
 "metadata": {
  "kernelspec": {
   "display_name": "Python",
   "language": "python",
   "name": "conda-env-python-py"
  },
  "language_info": {
   "codemirror_mode": {
    "name": "ipython",
    "version": 3
   },
   "file_extension": ".py",
   "mimetype": "text/x-python",
   "name": "python",
   "nbconvert_exporter": "python",
   "pygments_lexer": "ipython3",
   "version": "3.7.12"
  }
 },
 "nbformat": 4,
 "nbformat_minor": 5
}
